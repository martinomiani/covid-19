{
 "cells": [
  {
   "cell_type": "markdown",
   "metadata": {},
   "source": [
    "# COVID-19 Interactive Dashboard"
   ]
  },
  {
   "cell_type": "code",
   "execution_count": 20,
   "metadata": {},
   "outputs": [],
   "source": [
    "# nbi:hide_in\n",
    "import pandas as pd\n",
    "from ipyleaflet import Map, GeoData, LayersControl, FullScreenControl, SplitMapControl, Choropleth, WidgetControl\n",
    "from branca.colormap import linear\n",
    "import json\n",
    "import os\n",
    "import requests\n",
    "from ipywidgets import Dropdown\n",
    "from bqplot import Lines, Figure, LinearScale, DateScale, Axis\n",
    "import matplotlib.pyplot as plt"
   ]
  },
  {
   "cell_type": "code",
   "execution_count": 21,
   "metadata": {},
   "outputs": [],
   "source": [
    "# nbi:hide_in\n",
    "if not os.path.exists('limits_IT_regions.geojson'):\n",
    "  url = 'https://raw.githubusercontent.com/openpolis/geojson-italy/master/geojson/limits_IT_regions.geojson'\n",
    "  r = requests.get(url)\n",
    "  with open('limits_IT_regions.geojson', 'w') as f:\n",
    "    f.write(r.content.decode(\"utf-8\"))\n",
    "\n",
    "with open('limits_IT_regions.geojson', 'r') as f:\n",
    "  reg_geo_data = json.load(f)\n",
    "\n",
    "for feat in reg_geo_data['features']:\n",
    "    feat['id'] = feat['properties']['reg_istat_code_num']"
   ]
  },
  {
   "cell_type": "code",
   "execution_count": 22,
   "metadata": {},
   "outputs": [],
   "source": [
    "# nbi:hide_in\n",
    "if not os.path.exists('limits_IT_provinces.geojson'):\n",
    "  url = 'https://raw.githubusercontent.com/openpolis/geojson-italy/master/geojson/limits_IT_provinces.geojson'\n",
    "  r = requests.get(url)\n",
    "  with open('limits_IT_provinces.geojson', 'w') as f:\n",
    "    f.write(r.content.decode(\"utf-8\"))\n",
    "\n",
    "with open('limits_IT_provinces.geojson', 'r') as f:\n",
    "  prov_geo_data = json.load(f)\n",
    "\n",
    "for feat in prov_geo_data['features']:\n",
    "    feat['id'] = feat['properties']['prov_istat_code_num']"
   ]
  },
  {
   "cell_type": "code",
   "execution_count": 23,
   "metadata": {
    "scrolled": false
   },
   "outputs": [],
   "source": [
    "# nbi:hide_in\n",
    "reg_geo_data['features'][:] = [feat for feat in reg_geo_data['features'] if feat['properties']['reg_name'] != 'Trentino-Alto Adige/Südtirol']\n",
    "\n",
    "l2 = [feat for feat in prov_geo_data['features'] if feat['properties']['prov_name'] in ['Bolzano/Bozen', 'Trento']]\n",
    "for item in l2:\n",
    "    item['properties']['reg_name'] = item['properties']['prov_name']\n",
    "    reg_geo_data['features'].append(item)\n",
    "\n",
    "for feat in reg_geo_data['features']:\n",
    "    if feat['properties']['reg_name'] == \"Valle d'Aosta/Vallée d'Aoste\":\n",
    "        feat['properties']['reg_name'] = \"Valle d'Aosta\"\n",
    "    elif feat['properties']['reg_name'] == 'Friuli-Venezia Giulia':\n",
    "        feat['properties']['reg_name'] = 'Friuli Venezia Giulia'\n",
    "    #elif feat['properties']['reg_name'] == 'Emilia-Romagna':\n",
    "    #    feat['properties']['reg_name'] = 'Emilia Romagna'\n",
    "    elif feat['properties']['reg_name'] == 'Bolzano/Bozen':\n",
    "        feat['properties']['reg_name'] = 'P.A. Bolzano'\n",
    "    elif feat['properties']['reg_name'] == 'Trento':\n",
    "        feat['properties']['reg_name'] = 'P.A. Trento'"
   ]
  },
  {
   "cell_type": "code",
   "execution_count": 24,
   "metadata": {},
   "outputs": [],
   "source": [
    "# nbi:hide_in\n",
    "repo = 'https://raw.githubusercontent.com/pcm-dpc/COVID-19'\n",
    "branch = 'master'\n",
    "path_to_json = 'dati-json'\n",
    "naz_json = 'dpc-covid19-ita-andamento-nazionale.json'\n",
    "reg_json = 'dpc-covid19-ita-regioni.json'\n",
    "prov_json = 'dpc-covid19-ita-province.json'\n",
    "\n",
    "df_naz_raw = pd.read_json(repo + '/' + branch + '/' + path_to_json + '/' + naz_json, convert_dates=['data'])\n",
    "df_naz = df_naz_raw.set_index('data')\n",
    "df_reg_raw = pd.read_json(repo + '/' + branch + '/' + path_to_json + '/' + reg_json, convert_dates=['data'])\n",
    "df_reg = df_reg_raw.set_index('data')\n",
    "df_prov_raw = pd.read_json(repo + '/' + branch + '/' + path_to_json + '/' + prov_json, convert_dates=['data'])\n",
    "df_prov = df_prov_raw.set_index('data')"
   ]
  },
  {
   "cell_type": "code",
   "execution_count": 25,
   "metadata": {},
   "outputs": [],
   "source": [
    "# nbi:hide_in\n",
    "df_reg_today = df_reg.loc[df_reg.index.unique()[-1],:]\n",
    "df_reg_today.loc[df_reg_today.denominazione_regione == 'P.A. Bolzano', 'codice_regione'] = 21\n",
    "df_reg_today.loc[df_reg_today.denominazione_regione == 'P.A. Trento', 'codice_regione'] = 22\n",
    "reg_choro_data = dict(zip([int(item) for item in df_reg_today['codice_regione'].to_list()],\n",
    "                          df_reg_today['totale_casi'].to_list()))"
   ]
  },
  {
   "cell_type": "code",
   "execution_count": 26,
   "metadata": {},
   "outputs": [],
   "source": [
    "# nbi:hide_in\n",
    "df_prov_today = df_prov.loc[df_prov.index.unique()[-1],:]\n",
    "\n",
    "prov_choro_data = dict(zip([int(item) for item in df_prov_today['codice_provincia'].to_list()],\n",
    "                          df_prov_today['totale_casi'].to_list()))"
   ]
  },
  {
   "cell_type": "code",
   "execution_count": 27,
   "metadata": {
    "scrolled": false
   },
   "outputs": [],
   "source": [
    "# nbi:hide_in\n",
    "reg_layer = Choropleth(geo_data=reg_geo_data,\n",
    "                       choro_data=reg_choro_data,\n",
    "                       colormap=linear.YlOrRd_04,\n",
    "                       border_color='black',\n",
    "                       style={'fillOpacity': 0.8, 'dashArray': '5, 5'}\n",
    "                      )\n",
    "\n",
    "prov_layer = Choropleth(geo_data=prov_geo_data,\n",
    "                        choro_data=prov_choro_data,\n",
    "                        colormap=linear.YlOrRd_04,\n",
    "                        border_color='black',\n",
    "                        style={'fillOpacity': 0.8, 'dashArray': '5, 5'})"
   ]
  },
  {
   "cell_type": "markdown",
   "metadata": {},
   "source": [
    "## Provincie"
   ]
  },
  {
   "cell_type": "code",
   "execution_count": 28,
   "metadata": {
    "scrolled": false
   },
   "outputs": [
    {
     "data": {
      "application/vnd.jupyter.widget-view+json": {
       "model_id": "c2a75641c84c4b2f888469c7132f152f",
       "version_major": 2,
       "version_minor": 0
      },
      "text/plain": [
       "Map(center=[42, 11], controls=(ZoomControl(options=['position', 'zoom_in_text', 'zoom_in_title', 'zoom_out_tex…"
      ]
     },
     "metadata": {},
     "output_type": "display_data"
    }
   ],
   "source": [
    "# nbi:hide_in\n",
    "m1 = Map(center = (42,11), zoom = 5)\n",
    "m1.add_layer(prov_layer)\n",
    "#control = SplitMapControl(left_layer=reg_layer, right_layer=prov_layer)\n",
    "#m.add_control(control)variazione_totale_positivi\n",
    "m1.add_control(FullScreenControl())\n",
    "m1"
   ]
  },
  {
   "cell_type": "code",
   "execution_count": 29,
   "metadata": {},
   "outputs": [],
   "source": [
    "# nbi:hide_in\n",
    "prov_name = 'Milano'\n",
    "\n",
    "y_data1 = df_prov[df_prov.denominazione_provincia == prov_name]['totale_casi'].values\n",
    "date_data1 = df_prov[df_prov.denominazione_provincia == prov_name].index.values"
   ]
  },
  {
   "cell_type": "code",
   "execution_count": 30,
   "metadata": {
    "scrolled": true
   },
   "outputs": [],
   "source": [
    "# nbi:hide_in\n",
    "date_scale1 = DateScale()\n",
    "y_scale1 = LinearScale()\n",
    "\n",
    "lines1 = Lines(x=date_data1, y=y_data1, scales={'x': date_scale1, 'y': y_scale1})\n",
    "\n",
    "ax_x1 = Axis(label='', scale=date_scale1, num_ticks=9, tick_format='%d/%m')\n",
    "ax_y1 = Axis(label='Totale casi', scale=y_scale1, orientation='vertical', side='left')\n",
    "\n",
    "figure1 = Figure(axes=[ax_x1, ax_y1], title=prov_name, marks=[lines1], animation_duration=500,\n",
    "                layout={'max_height': '250px', 'max_width': '400px'})"
   ]
  },
  {
   "cell_type": "code",
   "execution_count": 31,
   "metadata": {},
   "outputs": [],
   "source": [
    "# nbi:hide_in\n",
    "def update_figure1(prov_name):\n",
    "    lines1.y = df_prov[df_prov.denominazione_provincia == prov_name]['totale_casi'].values\n",
    "\n",
    "    figure1.title = prov_name\n",
    "    prov_layer.choro_data = dict(zip([int(item) for item in df_prov_today['codice_provincia'].to_list()],\n",
    "                                    df_prov_today['totale_casi'].to_list()))"
   ]
  },
  {
   "cell_type": "code",
   "execution_count": 32,
   "metadata": {},
   "outputs": [],
   "source": [
    "# nbi:hide_in\n",
    "widget_control11 = WidgetControl(widget=figure1, position='bottomright')\n",
    "\n",
    "m1.add_control(widget_control11)\n",
    "\n",
    "def on_click11(event, feature, **kwargs):\n",
    "    global prov_name\n",
    "\n",
    "    prov_name = feature['properties']['prov_name']\n",
    "    update_figure1(prov_name)\n",
    "\n",
    "prov_layer.on_click(on_click11)"
   ]
  },
  {
   "cell_type": "markdown",
   "metadata": {},
   "source": [
    "## Regioni"
   ]
  },
  {
   "cell_type": "code",
   "execution_count": 52,
   "metadata": {
    "scrolled": false
   },
   "outputs": [
    {
     "data": {
      "application/vnd.jupyter.widget-view+json": {
       "model_id": "a87a6cf8cbd4482593d27eaa8c75adef",
       "version_major": 2,
       "version_minor": 0
      },
      "text/plain": [
       "Map(center=[42, 11], controls=(ZoomControl(options=['position', 'zoom_in_text', 'zoom_in_title', 'zoom_out_tex…"
      ]
     },
     "metadata": {},
     "output_type": "display_data"
    }
   ],
   "source": [
    "# nbi:hide_in\n",
    "m2 = Map(center = (42,11), zoom = 5)\n",
    "m2.add_layer(reg_layer)\n",
    "#control = SplitMapControl(left_layer=reg_layer, right_layer=prov_layer)\n",
    "#m.add_control(control)\n",
    "m2.add_control(FullScreenControl())\n",
    "m2"
   ]
  },
  {
   "cell_type": "code",
   "execution_count": 34,
   "metadata": {},
   "outputs": [],
   "source": [
    "# nbi:hide_in\n",
    "reg_name = 'Lombardia'\n",
    "data_name = 'totale_casi'\n",
    "\n",
    "y_data2 = df_reg[df_reg.denominazione_regione == reg_name][data_name].values\n",
    "date_data2 = df_reg[df_reg.denominazione_regione == reg_name].index.values"
   ]
  },
  {
   "cell_type": "code",
   "execution_count": 51,
   "metadata": {
    "scrolled": true
   },
   "outputs": [],
   "source": [
    "# nbi:hide_in\n",
    "date_scale2 = DateScale()\n",
    "y_scale2 = LinearScale()\n",
    "\n",
    "lines2 = Lines(x=date_data2, y=y_data2, scales={'x': date_scale2, 'y': y_scale2})\n",
    "\n",
    "ax_x2 = Axis(label='', scale=date_scale2, num_ticks=9, tick_format='%d/%m')\n",
    "ax_y2 = Axis(label=data_name.capitalize().replace('_', ' '), scale=y_scale2, orientation='vertical', side='left')\n",
    "\n",
    "figure2 = Figure(axes=[ax_x2, ax_y2], title=reg_name, marks=[lines2], animation_duration=500,\n",
    "                layout={'max_height': '250px', 'max_width': '400px'})"
   ]
  },
  {
   "cell_type": "code",
   "execution_count": 36,
   "metadata": {},
   "outputs": [],
   "source": [
    "# nbi:hide_in\n",
    "def update_figure2(reg_name, data_name):\n",
    "    lines2.y = df_reg[df_reg.denominazione_regione == reg_name][data_name].values\n",
    "    ax_y2.label = data_name.capitalize().replace('_', ' ')\n",
    "    figure2.title = reg_name\n",
    "    reg_layer.choro_data = dict(zip([int(item) for item in df_reg_today['codice_regione'].to_list()],\n",
    "                                    df_reg_today[data_name].to_list()))"
   ]
  },
  {
   "cell_type": "code",
   "execution_count": 53,
   "metadata": {},
   "outputs": [],
   "source": [
    "# nbi:hide_in\n",
    "widget_control21 = WidgetControl(widget=figure2, position='bottomright')\n",
    "\n",
    "m2.add_control(widget_control21)\n",
    "\n",
    "def on_click21(event, feature, **kwargs):\n",
    "    global reg_name\n",
    "\n",
    "    reg_name = feature['properties']['reg_name']\n",
    "    update_figure2(reg_name, data_name)\n",
    "\n",
    "reg_layer.on_click(on_click21)"
   ]
  },
  {
   "cell_type": "code",
   "execution_count": 44,
   "metadata": {},
   "outputs": [],
   "source": [
    "# nbi:hide_in\n",
    "dropdown = Dropdown(\n",
    "    options=['ricoverati_con_sintomi',\n",
    "             'terapia_intensiva',\n",
    "             'totale_ospedalizzati',\n",
    "             'isolamento_domiciliare',\n",
    "             'totale_positivi',\n",
    "             'variazione_totale_positivi',\n",
    "             'nuovi_positivi',\n",
    "             'dimessi_guariti',\n",
    "             'deceduti',\n",
    "             'totale_casi',\n",
    "             'tamponi'],\n",
    "    value=data_name,\n",
    "    description='Data:'\n",
    ")\n",
    "\n",
    "def on_click22(change):\n",
    "    global data_name\n",
    "\n",
    "    data_name = change['new']\n",
    "    update_figure2(reg_name, data_name)\n",
    "\n",
    "dropdown.observe(on_click22, 'value')\n",
    "\n",
    "widget_control22 = WidgetControl(widget=dropdown, position='bottomleft')\n",
    "\n",
    "m2.add_control(widget_control22)"
   ]
  }
 ],
 "metadata": {
  "kernelspec": {
   "display_name": "Python 3",
   "language": "python",
   "name": "python3"
  },
  "language_info": {
   "codemirror_mode": {
    "name": "ipython",
    "version": 3
   },
   "file_extension": ".py",
   "mimetype": "text/x-python",
   "name": "python",
   "nbconvert_exporter": "python",
   "pygments_lexer": "ipython3",
   "version": "3.7.3"
  }
 },
 "nbformat": 4,
 "nbformat_minor": 2
}
